{
 "cells": [
  {
   "cell_type": "code",
   "execution_count": 3,
   "id": "6b33cbd8",
   "metadata": {},
   "outputs": [],
   "source": [
    "import torch\n",
    "import torchvision.transforms.v2 as T  # Use v2 for these augs\n",
    "from PIL import Image\n",
    "import matplotlib.pyplot as plt\n",
    "import matplotlib.patches as patches\n",
    "import numpy as np"
   ]
  },
  {
   "cell_type": "code",
   "execution_count": 5,
   "id": "22f19785",
   "metadata": {},
   "outputs": [],
   "source": [
    "def draw_bboxes(img, bboxes, color='r'):\n",
    "    fig, ax = plt.subplots(1, figsize=(5, 5))\n",
    "    ax.imshow(np.array(img))  # Convert PIL to numpy for plt\n",
    "    for bbox in bboxes:\n",
    "        x, y, w, h = bbox\n",
    "        rect = patches.Rectangle((x, y), w, h, linewidth=2, edgecolor=color, facecolor='none')\n",
    "        ax.add_patch(rect)\n",
    "    plt.axis('off')\n",
    "    return fig"
   ]
  },
  {
   "cell_type": "code",
   "execution_count": 8,
   "id": "6f0389ac",
   "metadata": {},
   "outputs": [],
   "source": [
    "image_path = '../test_img.png'  # e.g., 'dataset/images/1.png'\n",
    "img = Image.open(image_path).convert('RGB')"
   ]
  },
  {
   "cell_type": "code",
   "execution_count": 9,
   "id": "3906d1e8",
   "metadata": {},
   "outputs": [],
   "source": [
    "# Sample bboxes in COCO [x, y, w, h] format (replace with real)\n",
    "bboxes = np.array([[100, 150, 200, 250]])  # Example single bbox; shape (N, 4)"
   ]
  },
  {
   "cell_type": "code",
   "execution_count": 11,
   "id": "5fcb2eeb",
   "metadata": {},
   "outputs": [],
   "source": [
    "# Target (dict format for transforms.v2)\n",
    "target = {'boxes': torch.tensor(bboxes, dtype=torch.float32)}  "
   ]
  },
  {
   "cell_type": "code",
   "execution_count": 2,
   "id": "3795c5b1",
   "metadata": {},
   "outputs": [
    {
     "name": "stdout",
     "output_type": "stream",
     "text": [
      "/home/kirtan-ghelani-sculptsoft\n"
     ]
    }
   ],
   "source": [
    "%cd"
   ]
  },
  {
   "cell_type": "code",
   "execution_count": null,
   "id": "e4da22a2",
   "metadata": {},
   "outputs": [],
   "source": []
  },
  {
   "cell_type": "code",
   "execution_count": 2,
   "id": "1ca08661",
   "metadata": {},
   "outputs": [
    {
     "name": "stdout",
     "output_type": "stream",
     "text": [
      "/home/kirtan-ghelani-sculptsoft/sculptsoft/projects/HEALTH-AIML/SeekIQ/RnD/rt-detr/github/RT-DETR-Polyp-Detection/notebooks\n"
     ]
    }
   ],
   "source": [
    "import sys\n",
    "import os\n",
    "\n",
    "# Add the parent directory to sys.path for relative imports\n",
    "sys.path.append(os.path.abspath('..'))\n",
    "\n",
    "# Optional: Verify the current working directory if needed\n",
    "print(os.getcwd())\n",
    "\n",
    "from src.data.transforms._transforms import CLAHEEnhance"
   ]
  },
  {
   "cell_type": "code",
   "execution_count": null,
   "id": "a368f1e6",
   "metadata": {},
   "outputs": [],
   "source": [
    "clahe_transform = CLAHEEnhance(clip_limit=3.0, p=1.0)\n",
    "\n",
    "clahe_transform = CLAHEEnhance(clip_limit=3.0, p=1.0)\n",
    "\n",
    "clahe_image = clahe_transform(sample_image)\n",
    "\n",
    "plt.subplot(1, 3, 1); plt.imshow(sample_image); plt.title(\"Original\")\n",
    "plt.subplot(1, 3, 2); plt.imshow(nbi_image); plt.title(\"NBI\")\n",
    "plt.subplot(1, 3, 3); plt.imshow(clahe_image); plt.title(\"CLAHE\")\n",
    "plt.show()"
   ]
  }
 ],
 "metadata": {
  "kernelspec": {
   "display_name": ".venv",
   "language": "python",
   "name": "python3"
  },
  "language_info": {
   "codemirror_mode": {
    "name": "ipython",
    "version": 3
   },
   "file_extension": ".py",
   "mimetype": "text/x-python",
   "name": "python",
   "nbconvert_exporter": "python",
   "pygments_lexer": "ipython3",
   "version": "3.11.13"
  }
 },
 "nbformat": 4,
 "nbformat_minor": 5
}
